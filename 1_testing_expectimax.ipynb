{
 "cells": [
  {
   "cell_type": "markdown",
   "metadata": {},
   "source": [
    "# Test the expectimax search algorithm"
   ]
  },
  {
   "cell_type": "code",
   "execution_count": 1,
   "metadata": {
    "collapsed": true
   },
   "outputs": [],
   "source": [
    "import sys\n",
    "sys.path.append('../')\n",
    "from DKT.DKTGraph import *\n",
    "from DKT.Hyperparameter import *\n",
    "from ActionEncoder import *\n",
    "from StudentModel import *\n",
    "from PlannerTester import *\n",
    "from BasicPlanner import *\n",
    "from ExpectimaxPlanner import *\n",
    "num_skills = 5"
   ]
  },
  {
   "cell_type": "code",
   "execution_count": 3,
   "metadata": {
    "collapsed": false
   },
   "outputs": [],
   "source": [
    "bkt_student_core = BKTStudent(model_file='bkt_model/bkt_v0.csv')\n",
    "bkt_student_tester = BKTStudent(model_file='bkt_model/bkt_v0.csv')\n",
    "tester = PlannerTester()"
   ]
  },
  {
   "cell_type": "code",
   "execution_count": 12,
   "metadata": {
    "collapsed": false
   },
   "outputs": [
    {
     "name": "stdout",
     "output_type": "stream",
     "text": [
      "iteration 0: 0.850903579417\n",
      "iteration 1: 0.752741207874\n",
      "iteration 2: 0.827622377509\n",
      "iteration 3: 0.833418586265\n",
      "iteration 4: 0.849417853272\n",
      "iteration 5: 0.794695439927\n",
      "iteration 6: 0.753170263332\n",
      "iteration 7: 0.730262434238\n",
      "iteration 8: 0.642818766956\n",
      "iteration 9: 0.831556315267\n",
      "               0\n",
      "count  10.000000\n",
      "mean    0.786661\n",
      "std     0.066794\n",
      "min     0.642819\n",
      "25%     0.752848\n",
      "50%     0.811159\n",
      "75%     0.832953\n",
      "max     0.850904\n",
      "CPU times: user 15min 51s, sys: 33.3 s, total: 16min 24s\n",
      "Wall time: 16min 22s\n"
     ]
    }
   ],
   "source": [
    "%%time\n",
    "expectimax_planner = ExpectimaxPlanner(num_skills, num_results=2,\n",
    "                                       student=bkt_student_core, max_depth=5)\n",
    "print tester.evaluate(expectimax_planner, bkt_student_tester, 10, 20, verbose=1)"
   ]
  },
  {
   "cell_type": "code",
   "execution_count": null,
   "metadata": {
    "collapsed": false
   },
   "outputs": [],
   "source": [
    "%%time\n",
    "expectimax_planner = ExpectimaxPlanner(num_skills, num_results=2,\n",
    "                                       student=bkt_student_core, max_depth=6)\n",
    "print tester.evaluate(expectimax_planner, bkt_student_tester, 1, 30, verbose=2)"
   ]
  },
  {
   "cell_type": "code",
   "execution_count": 10,
   "metadata": {
    "collapsed": false
   },
   "outputs": [
    {
     "name": "stdout",
     "output_type": "stream",
     "text": [
      "                0\n",
      "count  100.000000\n",
      "mean     0.607091\n",
      "std      0.073169\n",
      "min      0.424398\n",
      "25%      0.554363\n",
      "50%      0.609325\n",
      "75%      0.651161\n",
      "max      0.796689\n",
      "CPU times: user 25.9 ms, sys: 3.39 ms, total: 29.3 ms\n",
      "Wall time: 26.7 ms\n"
     ]
    }
   ],
   "source": [
    "%%time\n",
    "random_planner = RandomPlanner(num_skills)\n",
    "print tester.evaluate(random_planner, bkt_student_tester, 100, 20)"
   ]
  }
 ],
 "metadata": {
  "anaconda-cloud": {},
  "kernelspec": {
   "display_name": "Python [Root]",
   "language": "python",
   "name": "Python [Root]"
  },
  "language_info": {
   "codemirror_mode": {
    "name": "ipython",
    "version": 2
   },
   "file_extension": ".py",
   "mimetype": "text/x-python",
   "name": "python",
   "nbconvert_exporter": "python",
   "pygments_lexer": "ipython2",
   "version": "2.7.11"
  }
 },
 "nbformat": 4,
 "nbformat_minor": 0
}
