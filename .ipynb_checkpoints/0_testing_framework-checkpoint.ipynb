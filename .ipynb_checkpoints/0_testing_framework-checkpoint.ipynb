{
 "cells": [
  {
   "cell_type": "markdown",
   "metadata": {},
   "source": [
    "# Testing the planning modules"
   ]
  },
  {
   "cell_type": "code",
   "execution_count": 1,
   "metadata": {
    "collapsed": false
   },
   "outputs": [
    {
     "name": "stdout",
     "output_type": "stream",
     "text": [
      "[[ 0.  0.  0.  0.  0.  0.  0.  0.  0.  1.]]\n",
      "[[ 0.  0.  0.  0.  1.  0.  0.  0.  0.  0.]]\n"
     ]
    }
   ],
   "source": [
    "import sys\n",
    "sys.path.append('../')\n",
    "from DKT.DKTGraph import *\n",
    "from DKT.Hyperparameter import *\n",
    "from ActionEncoder import *\n",
    "\n",
    "num_skills = 5\n",
    "encoder = ActionEncoder(num_skills, 'one-hot')\n",
    "hps = Hyperparameter()\n",
    "hps.num_actions = encoder.num_actions\n",
    "hps.num_skills = encoder.num_skills\n",
    "\n",
    "print encoder.getActionVector(skill=4, correct=1)\n",
    "print encoder.getActionVector(skill=2, correct=0)"
   ]
  },
  {
   "cell_type": "code",
   "execution_count": 2,
   "metadata": {
    "collapsed": true
   },
   "outputs": [],
   "source": [
    "dkt_graph = DKTGraph(hps)"
   ]
  },
  {
   "cell_type": "code",
   "execution_count": 3,
   "metadata": {
    "collapsed": false
   },
   "outputs": [
    {
     "name": "stdout",
     "output_type": "stream",
     "text": [
      "[ 0.39065942  0.25962195  0.18992324  0.38997218  0.17509642]\n"
     ]
    }
   ],
   "source": [
    "from StudentModel import *\n",
    "dkt_student = DKTStudent(encoder, dkt_graph, model_file='dkt_model/model@epoch10.ckpt')\n",
    "print dkt_student.getPrediction()"
   ]
  },
  {
   "cell_type": "code",
   "execution_count": 4,
   "metadata": {
    "collapsed": false
   },
   "outputs": [
    {
     "name": "stdout",
     "output_type": "stream",
     "text": [
      "[[ 0.41949713  0.28613949  0.21229677  0.36108285  0.16421345]]\n"
     ]
    }
   ],
   "source": [
    "dkt_student.fixResultRun(skill=2, result=1)\n",
    "print dkt_student.current_status"
   ]
  },
  {
   "cell_type": "code",
   "execution_count": 5,
   "metadata": {
    "collapsed": false
   },
   "outputs": [
    {
     "name": "stdout",
     "output_type": "stream",
     "text": [
      "[[ 0.39452538  0.69841194  0.22399619  0.41017118  0.20316413]]\n"
     ]
    }
   ],
   "source": [
    "dkt_student.fixResultRun(skill=1, result=0)\n",
    "dkt_student.fixResultRun(skill=4, result=0)\n",
    "dkt_student.fixResultRun(skill=1, result=1)\n",
    "print dkt_student.current_status"
   ]
  },
  {
   "cell_type": "code",
   "execution_count": 6,
   "metadata": {
    "collapsed": false
   },
   "outputs": [
    {
     "name": "stdout",
     "output_type": "stream",
     "text": [
      "[[ 0.43913954  0.70934904  0.22164081  0.77503473  0.20461485]]\n"
     ]
    }
   ],
   "source": [
    "dkt_student.fixResultRun(skill=3, result=1)\n",
    "dkt_student.fixResultRun(skill=4, result=0)\n",
    "print dkt_student.current_status"
   ]
  },
  {
   "cell_type": "code",
   "execution_count": 7,
   "metadata": {
    "collapsed": false
   },
   "outputs": [
    {
     "name": "stdout",
     "output_type": "stream",
     "text": [
      "0\n"
     ]
    }
   ],
   "source": [
    "print dkt_student.simulationRun(skill=0)"
   ]
  },
  {
   "cell_type": "code",
   "execution_count": 8,
   "metadata": {
    "collapsed": false
   },
   "outputs": [
    {
     "name": "stdout",
     "output_type": "stream",
     "text": [
      "[[ 0.572303    0.70354319  0.21165265  0.80404723  0.19870897]]\n"
     ]
    }
   ],
   "source": [
    "print dkt_student.current_status"
   ]
  },
  {
   "cell_type": "code",
   "execution_count": 9,
   "metadata": {
    "collapsed": false
   },
   "outputs": [
    {
     "name": "stdout",
     "output_type": "stream",
     "text": [
      "[ 0.39065942  0.25962195  0.18992324  0.38997218  0.17509642]\n"
     ]
    }
   ],
   "source": [
    "dkt_student.reset()\n",
    "print dkt_student.getPrediction()"
   ]
  },
  {
   "cell_type": "code",
   "execution_count": 10,
   "metadata": {
    "collapsed": false
   },
   "outputs": [
    {
     "name": "stdout",
     "output_type": "stream",
     "text": [
      "[[ 0.41949713  0.28613949  0.21229677  0.36108285  0.16421345]]\n"
     ]
    }
   ],
   "source": [
    "dkt_student.fixResultRun(skill=2, result=1)\n",
    "print dkt_student.current_status"
   ]
  },
  {
   "cell_type": "code",
   "execution_count": 11,
   "metadata": {
    "collapsed": false
   },
   "outputs": [
    {
     "name": "stdout",
     "output_type": "stream",
     "text": [
      "[ 0.39065942  0.25962195  0.18992324  0.38997218  0.17509642]\n"
     ]
    }
   ],
   "source": [
    "dkt_student.reset()\n",
    "print dkt_student.getPrediction()"
   ]
  },
  {
   "cell_type": "code",
   "execution_count": 12,
   "metadata": {
    "collapsed": false
   },
   "outputs": [
    {
     "name": "stdout",
     "output_type": "stream",
     "text": [
      "[ 0.39065942  0.25962195  0.18992324  0.38997218  0.17509642]\n",
      "[ 0.41949713  0.28613949  0.21229677  0.36108285  0.16421345]\n",
      "[ 0.39065942  0.25962195  0.18992324  0.38997218  0.17509642]\n"
     ]
    }
   ],
   "source": [
    "import copy\n",
    "dkt_student.reset()\n",
    "dkt_student_2 = dkt_student.getCopy()\n",
    "print dkt_student_2.getPrediction()\n",
    "dkt_student_2.fixResultRun(skill=2, result=1)\n",
    "print dkt_student_2.getPrediction()\n",
    "print dkt_student.getPrediction()"
   ]
  },
  {
   "cell_type": "code",
   "execution_count": 13,
   "metadata": {
    "collapsed": false
   },
   "outputs": [],
   "source": [
    "bkt_student = BKTStudent(model_file='bkt_model/bkt_v0.csv')"
   ]
  },
  {
   "cell_type": "code",
   "execution_count": 14,
   "metadata": {
    "collapsed": false
   },
   "outputs": [
    {
     "name": "stdout",
     "output_type": "stream",
     "text": [
      "[ 0.41    0.27    0.2325  0.34    0.2   ]\n"
     ]
    }
   ],
   "source": [
    "print bkt_student.getPrediction()"
   ]
  },
  {
   "cell_type": "code",
   "execution_count": 15,
   "metadata": {
    "collapsed": false
   },
   "outputs": [
    {
     "name": "stdout",
     "output_type": "stream",
     "text": [
      "[ 0.41        0.27        0.32280108  0.34        0.2       ]\n"
     ]
    }
   ],
   "source": [
    "bkt_student.fixResultRun(skill=2, result=1)\n",
    "print bkt_student.getPrediction()"
   ]
  },
  {
   "cell_type": "code",
   "execution_count": 16,
   "metadata": {
    "collapsed": false
   },
   "outputs": [
    {
     "name": "stdout",
     "output_type": "stream",
     "text": [
      "[ 0.41        0.41671233  0.32280108  0.34        0.2       ]\n"
     ]
    }
   ],
   "source": [
    "bkt_student.fixResultRun(skill=1, result=0)\n",
    "print bkt_student.getPrediction()"
   ]
  },
  {
   "cell_type": "code",
   "execution_count": 17,
   "metadata": {
    "collapsed": false
   },
   "outputs": [
    {
     "name": "stdout",
     "output_type": "stream",
     "text": [
      "[ 0.41        0.41671233  0.32280108  0.34        0.20368403]\n"
     ]
    }
   ],
   "source": [
    "bkt_student.fixResultRun(skill=4, result=0)\n",
    "print bkt_student.getPrediction()"
   ]
  },
  {
   "cell_type": "code",
   "execution_count": 18,
   "metadata": {
    "collapsed": false
   },
   "outputs": [
    {
     "name": "stdout",
     "output_type": "stream",
     "text": [
      "[ 0.41        0.73763314  0.32280108  0.34        0.20368403]\n"
     ]
    }
   ],
   "source": [
    "bkt_student.fixResultRun(skill=1, result=1)\n",
    "print bkt_student.getPrediction()"
   ]
  },
  {
   "cell_type": "code",
   "execution_count": 19,
   "metadata": {
    "collapsed": false
   },
   "outputs": [
    {
     "name": "stdout",
     "output_type": "stream",
     "text": [
      "[ 0.41        0.73763314  0.32280108  0.73529412  0.20368403]\n"
     ]
    }
   ],
   "source": [
    "bkt_student.fixResultRun(skill=3, result=1)\n",
    "print bkt_student.getPrediction()"
   ]
  },
  {
   "cell_type": "code",
   "execution_count": 20,
   "metadata": {
    "collapsed": false
   },
   "outputs": [
    {
     "name": "stdout",
     "output_type": "stream",
     "text": [
      "[ 0.41    0.27    0.2325  0.34    0.2   ]\n"
     ]
    }
   ],
   "source": [
    "bkt_student.reset()\n",
    "print bkt_student.getPrediction()"
   ]
  },
  {
   "cell_type": "code",
   "execution_count": 21,
   "metadata": {
    "collapsed": false
   },
   "outputs": [
    {
     "name": "stdout",
     "output_type": "stream",
     "text": [
      "[ 0.41        0.27        0.32280108  0.34        0.2       ]\n"
     ]
    }
   ],
   "source": [
    "bkt_student.fixResultRun(skill=2, result=1)\n",
    "print bkt_student.getPrediction()"
   ]
  },
  {
   "cell_type": "code",
   "execution_count": 22,
   "metadata": {
    "collapsed": false
   },
   "outputs": [
    {
     "name": "stdout",
     "output_type": "stream",
     "text": [
      "[ 0.41    0.27    0.2325  0.34    0.2   ]\n"
     ]
    }
   ],
   "source": [
    "bkt_student.reset()\n",
    "print bkt_student.getPrediction()"
   ]
  },
  {
   "cell_type": "code",
   "execution_count": 23,
   "metadata": {
    "collapsed": false
   },
   "outputs": [
    {
     "name": "stdout",
     "output_type": "stream",
     "text": [
      "[ 0.41    0.27    0.2325  0.34    0.2   ]\n",
      "[ 0.41        0.27        0.32280108  0.34        0.2       ]\n",
      "[ 0.41    0.27    0.2325  0.34    0.2   ]\n"
     ]
    }
   ],
   "source": [
    "import copy\n",
    "bkt_student.reset()\n",
    "bkt_student_2 = bkt_student.getCopy()\n",
    "print bkt_student_2.getPrediction()\n",
    "bkt_student_2.fixResultRun(skill=2, result=1)\n",
    "print bkt_student_2.getPrediction()\n",
    "print bkt_student.getPrediction()"
   ]
  },
  {
   "cell_type": "code",
   "execution_count": 24,
   "metadata": {
    "collapsed": true
   },
   "outputs": [],
   "source": [
    "from PlannerTester import *\n",
    "from BasicPlanner import *\n",
    "tester = PlannerTester()\n",
    "random_planner = RandomPlanner(num_skills)\n",
    "block_planner = BlockPlanner(num_skills, mastery=3)"
   ]
  },
  {
   "cell_type": "code",
   "execution_count": 25,
   "metadata": {
    "collapsed": false
   },
   "outputs": [
    {
     "name": "stdout",
     "output_type": "stream",
     "text": [
      "                 0\n",
      "count  2000.000000\n",
      "mean      0.772432\n",
      "std       0.071605\n",
      "min       0.543809\n",
      "25%       0.732718\n",
      "50%       0.773668\n",
      "75%       0.823350\n",
      "max       0.879995\n",
      "CPU times: user 909 ms, sys: 36.7 ms, total: 945 ms\n",
      "Wall time: 923 ms\n"
     ]
    }
   ],
   "source": [
    "%%time\n",
    "print tester.evaluate(random_planner, bkt_student, 2000, 50)"
   ]
  },
  {
   "cell_type": "code",
   "execution_count": 26,
   "metadata": {
    "collapsed": false
   },
   "outputs": [
    {
     "name": "stdout",
     "output_type": "stream",
     "text": [
      "                 0\n",
      "count  5000.000000\n",
      "mean      0.863946\n",
      "std       0.031315\n",
      "min       0.598386\n",
      "25%       0.866874\n",
      "50%       0.878753\n",
      "75%       0.879814\n",
      "max       0.880000\n",
      "CPU times: user 2.01 s, sys: 25.8 ms, total: 2.04 s\n",
      "Wall time: 2.02 s\n"
     ]
    }
   ],
   "source": [
    "%%time\n",
    "print tester.evaluate(block_planner, bkt_student, 5000, 50)"
   ]
  },
  {
   "cell_type": "code",
   "execution_count": 27,
   "metadata": {
    "collapsed": false
   },
   "outputs": [
    {
     "name": "stdout",
     "output_type": "stream",
     "text": [
      "                 0\n",
      "count  1000.000000\n",
      "mean      0.777026\n",
      "std       0.103245\n",
      "min       0.505962\n",
      "25%       0.695630\n",
      "50%       0.799663\n",
      "75%       0.867990\n",
      "max       0.911533\n",
      "CPU times: user 36.6 s, sys: 13.7 s, total: 50.4 s\n",
      "Wall time: 26 s\n"
     ]
    }
   ],
   "source": [
    "%%time\n",
    "print tester.evaluate(random_planner, dkt_student, 1000, 50)"
   ]
  },
  {
   "cell_type": "code",
   "execution_count": 29,
   "metadata": {
    "collapsed": false
   },
   "outputs": [],
   "source": [
    "from ExpectimaxPlanner import *\n",
    "bkt_student.reset()\n",
    "expectimax_planner = ExpectimaxPlanner(num_skills, num_results=2, student=bkt_student, max_depth=3)"
   ]
  },
  {
   "cell_type": "code",
   "execution_count": null,
   "metadata": {
    "collapsed": true
   },
   "outputs": [],
   "source": [
    "%%time\n",
    "print tester.evaluate(expectimax_planner, bkt_student, 1000, 50)"
   ]
  }
 ],
 "metadata": {
  "kernelspec": {
   "display_name": "Python [Root]",
   "language": "python",
   "name": "Python [Root]"
  },
  "language_info": {
   "codemirror_mode": {
    "name": "ipython",
    "version": 2
   },
   "file_extension": ".py",
   "mimetype": "text/x-python",
   "name": "python",
   "nbconvert_exporter": "python",
   "pygments_lexer": "ipython2",
   "version": "2.7.11"
  }
 },
 "nbformat": 4,
 "nbformat_minor": 0
}
